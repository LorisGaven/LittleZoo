{
 "cells": [
  {
   "cell_type": "code",
   "execution_count": 1,
   "metadata": {},
   "outputs": [],
   "source": [
    "import gymnasium as gym\n",
    "import numpy as np\n",
    "from littlezoo import LittleZoo"
   ]
  },
  {
   "cell_type": "code",
   "execution_count": 2,
   "metadata": {},
   "outputs": [],
   "source": [
    "env = LittleZoo()"
   ]
  },
  {
   "cell_type": "code",
   "execution_count": 31,
   "metadata": {},
   "outputs": [
    {
     "data": {
      "text/plain": [
       "('lion', 'tiger', 'bobcat', 'panthera', 'coyote', 'wolf')"
      ]
     },
     "execution_count": 31,
     "metadata": {},
     "output_type": "execute_result"
    }
   ],
   "source": [
    "env.env_params['categories']['carnivore']"
   ]
  },
  {
   "cell_type": "code",
   "execution_count": 16,
   "metadata": {},
   "outputs": [],
   "source": [
    "goal = ['Grow lion', 'tomato', 'water', 'rabbit', 'lion']"
   ]
  },
  {
   "cell_type": "code",
   "execution_count": 17,
   "metadata": {},
   "outputs": [
    {
     "data": {
      "text/plain": [
       "('You see: tomato seed, water, baby rabbit, baby lion\\nYou are standing on: nothing\\nInventory (0/2): empty',\n",
       " {'goal': 'Grow lion',\n",
       "  'possible_actions': ['Grasp',\n",
       "   'Go to tomato seed',\n",
       "   'Go to water',\n",
       "   'Go to baby rabbit',\n",
       "   'Go to baby lion'],\n",
       "  'inventory': []})"
      ]
     },
     "execution_count": 17,
     "metadata": {},
     "output_type": "execute_result"
    }
   ],
   "source": [
    "env.reset(goal)"
   ]
  },
  {
   "cell_type": "code",
   "execution_count": 28,
   "metadata": {},
   "outputs": [
    {
     "data": {
      "text/plain": [
       "('You see: lion\\nYou are standing on: lion\\nInventory (0/2): empty',\n",
       " 1.0,\n",
       " True,\n",
       " False,\n",
       " {'goal': 'Grow lion',\n",
       "  'possible_actions': ['Grasp', 'Go to lion'],\n",
       "  'inventory': []})"
      ]
     },
     "execution_count": 28,
     "metadata": {},
     "output_type": "execute_result"
    }
   ],
   "source": [
    "env.step(\"Release rabbit\")"
   ]
  },
  {
   "cell_type": "code",
   "execution_count": 12,
   "metadata": {},
   "outputs": [
    {
     "name": "stdout",
     "output_type": "stream",
     "text": [
      "0.5048543689320388 0.49514563106796117\n"
     ]
    }
   ],
   "source": [
    "nb_grasp = 0\n",
    "nb_grow = 0\n",
    "for desc in env.train_descriptions:\n",
    "    if desc.startswith(\"Grasp\"):\n",
    "        nb_grasp += 1\n",
    "    else:\n",
    "        nb_grow += 1\n",
    "\n",
    "print(nb_grasp/(nb_grasp+nb_grow), nb_grow/(nb_grasp+nb_grow))"
   ]
  },
  {
   "cell_type": "code",
   "execution_count": 64,
   "metadata": {},
   "outputs": [
    {
     "name": "stderr",
     "output_type": "stream",
     "text": [
      "  5%|▌         | 5347/100000 [02:15<39:52, 39.56it/s]\n"
     ]
    },
    {
     "ename": "KeyboardInterrupt",
     "evalue": "",
     "output_type": "error",
     "traceback": [
      "\u001b[0;31m---------------------------------------------------------------------------\u001b[0m",
      "\u001b[0;31mKeyboardInterrupt\u001b[0m                         Traceback (most recent call last)",
      "Cell \u001b[0;32mIn[64], line 3\u001b[0m\n\u001b[1;32m      1\u001b[0m \u001b[38;5;28;01mfrom\u001b[39;00m \u001b[38;5;21;01mtqdm\u001b[39;00m \u001b[38;5;28;01mimport\u001b[39;00m tqdm\n\u001b[1;32m      2\u001b[0m \u001b[38;5;28;01mfor\u001b[39;00m i \u001b[38;5;129;01min\u001b[39;00m tqdm(\u001b[38;5;28mrange\u001b[39m(\u001b[38;5;241m100000\u001b[39m)):\n\u001b[0;32m----> 3\u001b[0m     \u001b[43menv\u001b[49m\u001b[38;5;241;43m.\u001b[39;49m\u001b[43mreset\u001b[49m\u001b[43m(\u001b[49m\u001b[43mnp\u001b[49m\u001b[38;5;241;43m.\u001b[39;49m\u001b[43mrandom\u001b[49m\u001b[38;5;241;43m.\u001b[39;49m\u001b[43mchoice\u001b[49m\u001b[43m(\u001b[49m\u001b[43menv\u001b[49m\u001b[38;5;241;43m.\u001b[39;49m\u001b[43mtest_descriptions\u001b[49m\u001b[43m)\u001b[49m\u001b[43m)\u001b[49m\n",
      "File \u001b[0;32m~/work/inria/LittleZoo/little_zoo/littlezoo.py:91\u001b[0m, in \u001b[0;36mLittleZoo.reset\u001b[0;34m(self, goal_str)\u001b[0m\n\u001b[1;32m     89\u001b[0m \u001b[38;5;28mself\u001b[39m\u001b[38;5;241m.\u001b[39mhindsights_list \u001b[38;5;241m=\u001b[39m [] \u001b[38;5;66;03m# Used to construct sequential hindsights\u001b[39;00m\n\u001b[1;32m     90\u001b[0m \u001b[38;5;28mself\u001b[39m\u001b[38;5;241m.\u001b[39mhindsights_mem \u001b[38;5;241m=\u001b[39m [] \u001b[38;5;66;03m# Used to make sure we don't repeat the same hindsights\u001b[39;00m\n\u001b[0;32m---> 91\u001b[0m hindsight \u001b[38;5;241m=\u001b[39m \u001b[38;5;28;43mself\u001b[39;49m\u001b[38;5;241;43m.\u001b[39;49m\u001b[43mget_hindsight\u001b[49m\u001b[43m(\u001b[49m\u001b[43mo\u001b[49m\u001b[43m)\u001b[49m\n\u001b[1;32m     92\u001b[0m \u001b[38;5;28;01mif\u001b[39;00m \u001b[38;5;28mlen\u001b[39m(hindsight) \u001b[38;5;241m!=\u001b[39m \u001b[38;5;241m0\u001b[39m:\n\u001b[1;32m     93\u001b[0m     \u001b[38;5;28mself\u001b[39m\u001b[38;5;241m.\u001b[39mhindsights_list\u001b[38;5;241m.\u001b[39mextend(hindsight\u001b[38;5;241m.\u001b[39mcopy())\n",
      "File \u001b[0;32m~/work/inria/LittleZoo/little_zoo/littlezoo.py:166\u001b[0m, in \u001b[0;36mLittleZoo.get_hindsight\u001b[0;34m(self, o, grasp)\u001b[0m\n\u001b[1;32m    165\u001b[0m \u001b[38;5;28;01mdef\u001b[39;00m \u001b[38;5;21mget_hindsight\u001b[39m(\u001b[38;5;28mself\u001b[39m, o, grasp\u001b[38;5;241m=\u001b[39m\u001b[38;5;28;01mFalse\u001b[39;00m):\n\u001b[0;32m--> 166\u001b[0m     hindsights \u001b[38;5;241m=\u001b[39m [hindsight \u001b[38;5;28;01mfor\u001b[39;00m hinsights \u001b[38;5;129;01min\u001b[39;00m \u001b[43msample_descriptions_from_state\u001b[49m\u001b[43m(\u001b[49m\u001b[43mo\u001b[49m\u001b[43m,\u001b[49m\u001b[43m \u001b[49m\u001b[38;5;28;43mself\u001b[39;49m\u001b[38;5;241;43m.\u001b[39;49m\u001b[43menv_params\u001b[49m\u001b[43m)\u001b[49m \u001b[38;5;28;01mfor\u001b[39;00m hindsight \u001b[38;5;129;01min\u001b[39;00m hinsights]\n\u001b[1;32m    167\u001b[0m     \u001b[38;5;28;01mreturn\u001b[39;00m [hindsight \u001b[38;5;28;01mfor\u001b[39;00m hindsight \u001b[38;5;129;01min\u001b[39;00m hindsights \u001b[38;5;28;01mif\u001b[39;00m \u001b[38;5;129;01mnot\u001b[39;00m hindsight\u001b[38;5;241m.\u001b[39mstartswith(\u001b[38;5;124m\"\u001b[39m\u001b[38;5;124mGo\u001b[39m\u001b[38;5;124m\"\u001b[39m) \u001b[38;5;129;01mand\u001b[39;00m (grasp \u001b[38;5;129;01mor\u001b[39;00m \u001b[38;5;129;01mnot\u001b[39;00m hindsight\u001b[38;5;241m.\u001b[39mstartswith(\u001b[38;5;124m\"\u001b[39m\u001b[38;5;124mGrasp\u001b[39m\u001b[38;5;124m\"\u001b[39m)) \u001b[38;5;129;01mand\u001b[39;00m hindsight \u001b[38;5;129;01min\u001b[39;00m \u001b[38;5;28mself\u001b[39m\u001b[38;5;241m.\u001b[39mtrain_descriptions]\n",
      "File \u001b[0;32m~/anaconda3/envs/playground-text/lib/python3.10/site-packages/little_zoo/playground/reward_function.py:195\u001b[0m, in \u001b[0;36msample_descriptions_from_state\u001b[0;34m(state, params)\u001b[0m\n\u001b[1;32m    193\u001b[0m     obj_att \u001b[38;5;241m=\u001b[39m []\n\u001b[1;32m    194\u001b[0m     \u001b[38;5;28;01mfor\u001b[39;00m k \u001b[38;5;129;01min\u001b[39;00m admissible_attributes:\n\u001b[0;32m--> 195\u001b[0m         obj_att \u001b[38;5;241m+\u001b[39m\u001b[38;5;241m=\u001b[39m \u001b[43mget_attributes_functions\u001b[49m\u001b[43m[\u001b[49m\u001b[43mk\u001b[49m\u001b[43m]\u001b[49m\u001b[43m(\u001b[49m\u001b[43mobj_features\u001b[49m\u001b[43m,\u001b[49m\u001b[43m \u001b[49m\u001b[43mi_obj\u001b[49m\u001b[43m)\u001b[49m\n\u001b[1;32m    196\u001b[0m     obj_attributes\u001b[38;5;241m.\u001b[39mappend(obj_att)\n\u001b[1;32m    198\u001b[0m \u001b[38;5;28;01mdef\u001b[39;00m \u001b[38;5;21msort_attributes\u001b[39m(attributes):\n",
      "File \u001b[0;32m~/anaconda3/envs/playground-text/lib/python3.10/site-packages/little_zoo/playground/env_params.py:263\u001b[0m, in \u001b[0;36mget_env_params.<locals>.get_obj_color\u001b[0;34m(all_obj_features, i_obj)\u001b[0m\n\u001b[1;32m    261\u001b[0m \u001b[38;5;28;01mfor\u001b[39;00m c \u001b[38;5;129;01min\u001b[39;00m colors:\n\u001b[1;32m    262\u001b[0m     \u001b[38;5;28;01mfor\u001b[39;00m s \u001b[38;5;129;01min\u001b[39;00m shades:\n\u001b[0;32m--> 263\u001b[0m         color_class \u001b[38;5;241m=\u001b[39m \u001b[43mColor\u001b[49m\u001b[43m(\u001b[49m\u001b[43mc\u001b[49m\u001b[43m)\u001b[49m\n\u001b[1;32m    264\u001b[0m         \u001b[38;5;28;01mif\u001b[39;00m color_class\u001b[38;5;241m.\u001b[39mcontains(rgb):\n\u001b[1;32m    265\u001b[0m             \u001b[38;5;28;01mreturn\u001b[39;00m [c]\n",
      "File \u001b[0;32m~/anaconda3/envs/playground-text/lib/python3.10/site-packages/little_zoo/playground/color_generation.py:38\u001b[0m, in \u001b[0;36mColor.__init__\u001b[0;34m(self, color)\u001b[0m\n\u001b[1;32m     16\u001b[0m \u001b[38;5;28mself\u001b[39m\u001b[38;5;241m.\u001b[39mcolor \u001b[38;5;241m=\u001b[39m color\n\u001b[1;32m     18\u001b[0m \u001b[38;5;66;03m# Define the colors and their corresponding RGB values\u001b[39;00m\n\u001b[1;32m     19\u001b[0m \u001b[38;5;28mself\u001b[39m\u001b[38;5;241m.\u001b[39mcolors_rgb \u001b[38;5;241m=\u001b[39m {\n\u001b[1;32m     20\u001b[0m     \u001b[38;5;124m\"\u001b[39m\u001b[38;5;124mred\u001b[39m\u001b[38;5;124m\"\u001b[39m: np\u001b[38;5;241m.\u001b[39marray([\u001b[38;5;241m255\u001b[39m, \u001b[38;5;241m0\u001b[39m, \u001b[38;5;241m0\u001b[39m]),\n\u001b[1;32m     21\u001b[0m     \u001b[38;5;124m\"\u001b[39m\u001b[38;5;124mgreen\u001b[39m\u001b[38;5;124m\"\u001b[39m: np\u001b[38;5;241m.\u001b[39marray([\u001b[38;5;241m0\u001b[39m, \u001b[38;5;241m255\u001b[39m, \u001b[38;5;241m0\u001b[39m]),\n\u001b[1;32m     22\u001b[0m     \u001b[38;5;124m\"\u001b[39m\u001b[38;5;124mblue\u001b[39m\u001b[38;5;124m\"\u001b[39m: np\u001b[38;5;241m.\u001b[39marray([\u001b[38;5;241m0\u001b[39m, \u001b[38;5;241m0\u001b[39m, \u001b[38;5;241m255\u001b[39m]),\n\u001b[1;32m     23\u001b[0m     \u001b[38;5;124m\"\u001b[39m\u001b[38;5;124myellow\u001b[39m\u001b[38;5;124m\"\u001b[39m: np\u001b[38;5;241m.\u001b[39marray([\u001b[38;5;241m255\u001b[39m, \u001b[38;5;241m255\u001b[39m, \u001b[38;5;241m0\u001b[39m]),\n\u001b[1;32m     24\u001b[0m     \u001b[38;5;124m\"\u001b[39m\u001b[38;5;124mpurple\u001b[39m\u001b[38;5;124m\"\u001b[39m: np\u001b[38;5;241m.\u001b[39marray([\u001b[38;5;241m128\u001b[39m, \u001b[38;5;241m0\u001b[39m, \u001b[38;5;241m128\u001b[39m]),\n\u001b[1;32m     25\u001b[0m     \u001b[38;5;124m\"\u001b[39m\u001b[38;5;124morange\u001b[39m\u001b[38;5;124m\"\u001b[39m: np\u001b[38;5;241m.\u001b[39marray([\u001b[38;5;241m255\u001b[39m, \u001b[38;5;241m165\u001b[39m, \u001b[38;5;241m0\u001b[39m]),\n\u001b[1;32m     26\u001b[0m     \u001b[38;5;124m\"\u001b[39m\u001b[38;5;124mpink\u001b[39m\u001b[38;5;124m\"\u001b[39m: np\u001b[38;5;241m.\u001b[39marray([\u001b[38;5;241m255\u001b[39m, \u001b[38;5;241m192\u001b[39m, \u001b[38;5;241m203\u001b[39m]),\n\u001b[1;32m     27\u001b[0m     \u001b[38;5;124m\"\u001b[39m\u001b[38;5;124mbrown\u001b[39m\u001b[38;5;124m\"\u001b[39m: np\u001b[38;5;241m.\u001b[39marray([\u001b[38;5;241m165\u001b[39m, \u001b[38;5;241m42\u001b[39m, \u001b[38;5;241m42\u001b[39m]),\n\u001b[1;32m     28\u001b[0m     \u001b[38;5;124m\"\u001b[39m\u001b[38;5;124mblack\u001b[39m\u001b[38;5;124m\"\u001b[39m: np\u001b[38;5;241m.\u001b[39marray([\u001b[38;5;241m0\u001b[39m, \u001b[38;5;241m0\u001b[39m, \u001b[38;5;241m0\u001b[39m]),\n\u001b[1;32m     29\u001b[0m     \u001b[38;5;124m\"\u001b[39m\u001b[38;5;124mwhite\u001b[39m\u001b[38;5;124m\"\u001b[39m: np\u001b[38;5;241m.\u001b[39marray([\u001b[38;5;241m255\u001b[39m, \u001b[38;5;241m255\u001b[39m, \u001b[38;5;241m255\u001b[39m]),\n\u001b[1;32m     30\u001b[0m     \u001b[38;5;124m\"\u001b[39m\u001b[38;5;124mgray\u001b[39m\u001b[38;5;124m\"\u001b[39m: np\u001b[38;5;241m.\u001b[39marray([\u001b[38;5;241m128\u001b[39m, \u001b[38;5;241m128\u001b[39m, \u001b[38;5;241m128\u001b[39m]),\n\u001b[1;32m     31\u001b[0m     \u001b[38;5;124m\"\u001b[39m\u001b[38;5;124mcyan\u001b[39m\u001b[38;5;124m\"\u001b[39m: np\u001b[38;5;241m.\u001b[39marray([\u001b[38;5;241m0\u001b[39m, \u001b[38;5;241m255\u001b[39m, \u001b[38;5;241m255\u001b[39m]),\n\u001b[1;32m     32\u001b[0m     \u001b[38;5;124m\"\u001b[39m\u001b[38;5;124mmagenta\u001b[39m\u001b[38;5;124m\"\u001b[39m: np\u001b[38;5;241m.\u001b[39marray([\u001b[38;5;241m255\u001b[39m, \u001b[38;5;241m0\u001b[39m, \u001b[38;5;241m255\u001b[39m]),\n\u001b[1;32m     33\u001b[0m     \u001b[38;5;124m\"\u001b[39m\u001b[38;5;124mlime\u001b[39m\u001b[38;5;124m\"\u001b[39m: np\u001b[38;5;241m.\u001b[39marray([\u001b[38;5;241m0\u001b[39m, \u001b[38;5;241m255\u001b[39m, \u001b[38;5;241m0\u001b[39m]),\n\u001b[1;32m     34\u001b[0m     \u001b[38;5;124m\"\u001b[39m\u001b[38;5;124mindigo\u001b[39m\u001b[38;5;124m\"\u001b[39m: np\u001b[38;5;241m.\u001b[39marray([\u001b[38;5;241m75\u001b[39m, \u001b[38;5;241m0\u001b[39m, \u001b[38;5;241m130\u001b[39m]),\n\u001b[1;32m     35\u001b[0m     \u001b[38;5;124m\"\u001b[39m\u001b[38;5;124mviolet\u001b[39m\u001b[38;5;124m\"\u001b[39m: np\u001b[38;5;241m.\u001b[39marray([\u001b[38;5;241m238\u001b[39m, \u001b[38;5;241m130\u001b[39m, \u001b[38;5;241m238\u001b[39m]),\n\u001b[1;32m     36\u001b[0m     \u001b[38;5;124m\"\u001b[39m\u001b[38;5;124mturquoise\u001b[39m\u001b[38;5;124m\"\u001b[39m: np\u001b[38;5;241m.\u001b[39marray([\u001b[38;5;241m64\u001b[39m, \u001b[38;5;241m224\u001b[39m, \u001b[38;5;241m208\u001b[39m]),\n\u001b[1;32m     37\u001b[0m     \u001b[38;5;124m\"\u001b[39m\u001b[38;5;124mbeige\u001b[39m\u001b[38;5;124m\"\u001b[39m: np\u001b[38;5;241m.\u001b[39marray([\u001b[38;5;241m245\u001b[39m, \u001b[38;5;241m245\u001b[39m, \u001b[38;5;241m220\u001b[39m]),\n\u001b[0;32m---> 38\u001b[0m     \u001b[38;5;124m\"\u001b[39m\u001b[38;5;124mlavender\u001b[39m\u001b[38;5;124m\"\u001b[39m: \u001b[43mnp\u001b[49m\u001b[38;5;241;43m.\u001b[39;49m\u001b[43marray\u001b[49m\u001b[43m(\u001b[49m\u001b[43m[\u001b[49m\u001b[38;5;241;43m230\u001b[39;49m\u001b[43m,\u001b[49m\u001b[43m \u001b[49m\u001b[38;5;241;43m230\u001b[39;49m\u001b[43m,\u001b[49m\u001b[43m \u001b[49m\u001b[38;5;241;43m250\u001b[39;49m\u001b[43m]\u001b[49m\u001b[43m)\u001b[49m,\n\u001b[1;32m     39\u001b[0m     \u001b[38;5;124m\"\u001b[39m\u001b[38;5;124mcoral\u001b[39m\u001b[38;5;124m\"\u001b[39m: np\u001b[38;5;241m.\u001b[39marray([\u001b[38;5;241m255\u001b[39m, \u001b[38;5;241m127\u001b[39m, \u001b[38;5;241m80\u001b[39m]),\n\u001b[1;32m     40\u001b[0m     \u001b[38;5;124m\"\u001b[39m\u001b[38;5;124mgold\u001b[39m\u001b[38;5;124m\"\u001b[39m: np\u001b[38;5;241m.\u001b[39marray([\u001b[38;5;241m255\u001b[39m, \u001b[38;5;241m215\u001b[39m, \u001b[38;5;241m0\u001b[39m]),\n\u001b[1;32m     41\u001b[0m     \u001b[38;5;124m\"\u001b[39m\u001b[38;5;124msilver\u001b[39m\u001b[38;5;124m\"\u001b[39m: np\u001b[38;5;241m.\u001b[39marray([\u001b[38;5;241m192\u001b[39m, \u001b[38;5;241m192\u001b[39m, \u001b[38;5;241m192\u001b[39m]),\n\u001b[1;32m     42\u001b[0m     \u001b[38;5;124m\"\u001b[39m\u001b[38;5;124mmaroon\u001b[39m\u001b[38;5;124m\"\u001b[39m: np\u001b[38;5;241m.\u001b[39marray([\u001b[38;5;241m128\u001b[39m, \u001b[38;5;241m0\u001b[39m, \u001b[38;5;241m0\u001b[39m]),\n\u001b[1;32m     43\u001b[0m     \u001b[38;5;124m\"\u001b[39m\u001b[38;5;124mnavy\u001b[39m\u001b[38;5;124m\"\u001b[39m: np\u001b[38;5;241m.\u001b[39marray([\u001b[38;5;241m0\u001b[39m, \u001b[38;5;241m0\u001b[39m, \u001b[38;5;241m128\u001b[39m]),\n\u001b[1;32m     44\u001b[0m     \u001b[38;5;124m\"\u001b[39m\u001b[38;5;124mteal\u001b[39m\u001b[38;5;124m\"\u001b[39m: np\u001b[38;5;241m.\u001b[39marray([\u001b[38;5;241m0\u001b[39m, \u001b[38;5;241m128\u001b[39m, \u001b[38;5;241m128\u001b[39m]),\n\u001b[1;32m     45\u001b[0m     \u001b[38;5;124m\"\u001b[39m\u001b[38;5;124molive\u001b[39m\u001b[38;5;124m\"\u001b[39m: np\u001b[38;5;241m.\u001b[39marray([\u001b[38;5;241m128\u001b[39m, \u001b[38;5;241m128\u001b[39m, \u001b[38;5;241m0\u001b[39m]),\n\u001b[1;32m     46\u001b[0m     \u001b[38;5;124m\"\u001b[39m\u001b[38;5;124msalmon\u001b[39m\u001b[38;5;124m\"\u001b[39m: np\u001b[38;5;241m.\u001b[39marray([\u001b[38;5;241m250\u001b[39m, \u001b[38;5;241m128\u001b[39m, \u001b[38;5;241m114\u001b[39m]),\n\u001b[1;32m     47\u001b[0m     \u001b[38;5;124m\"\u001b[39m\u001b[38;5;124mplum\u001b[39m\u001b[38;5;124m\"\u001b[39m: np\u001b[38;5;241m.\u001b[39marray([\u001b[38;5;241m221\u001b[39m, \u001b[38;5;241m160\u001b[39m, \u001b[38;5;241m221\u001b[39m]),\n\u001b[1;32m     48\u001b[0m     \u001b[38;5;124m\"\u001b[39m\u001b[38;5;124mchocolate\u001b[39m\u001b[38;5;124m\"\u001b[39m: np\u001b[38;5;241m.\u001b[39marray([\u001b[38;5;241m210\u001b[39m, \u001b[38;5;241m105\u001b[39m, \u001b[38;5;241m30\u001b[39m]),\n\u001b[1;32m     49\u001b[0m     \u001b[38;5;124m\"\u001b[39m\u001b[38;5;124mtan\u001b[39m\u001b[38;5;124m\"\u001b[39m: np\u001b[38;5;241m.\u001b[39marray([\u001b[38;5;241m210\u001b[39m, \u001b[38;5;241m180\u001b[39m, \u001b[38;5;241m140\u001b[39m]),\n\u001b[1;32m     50\u001b[0m     \u001b[38;5;124m\"\u001b[39m\u001b[38;5;124mpeach\u001b[39m\u001b[38;5;124m\"\u001b[39m: np\u001b[38;5;241m.\u001b[39marray([\u001b[38;5;241m255\u001b[39m, \u001b[38;5;241m229\u001b[39m, \u001b[38;5;241m180\u001b[39m]),\n\u001b[1;32m     51\u001b[0m     \u001b[38;5;124m\"\u001b[39m\u001b[38;5;124mcrimson\u001b[39m\u001b[38;5;124m\"\u001b[39m: np\u001b[38;5;241m.\u001b[39marray([\u001b[38;5;241m220\u001b[39m, \u001b[38;5;241m20\u001b[39m, \u001b[38;5;241m60\u001b[39m]),\n\u001b[1;32m     52\u001b[0m     \u001b[38;5;124m\"\u001b[39m\u001b[38;5;124maqua\u001b[39m\u001b[38;5;124m\"\u001b[39m: np\u001b[38;5;241m.\u001b[39marray([\u001b[38;5;241m0\u001b[39m, \u001b[38;5;241m255\u001b[39m, \u001b[38;5;241m255\u001b[39m]),\n\u001b[1;32m     53\u001b[0m     \u001b[38;5;124m\"\u001b[39m\u001b[38;5;124mivory\u001b[39m\u001b[38;5;124m\"\u001b[39m: np\u001b[38;5;241m.\u001b[39marray([\u001b[38;5;241m255\u001b[39m, \u001b[38;5;241m255\u001b[39m, \u001b[38;5;241m240\u001b[39m]),\n\u001b[1;32m     54\u001b[0m     \u001b[38;5;124m\"\u001b[39m\u001b[38;5;124morchid\u001b[39m\u001b[38;5;124m\"\u001b[39m: np\u001b[38;5;241m.\u001b[39marray([\u001b[38;5;241m218\u001b[39m, \u001b[38;5;241m112\u001b[39m, \u001b[38;5;241m214\u001b[39m]),\n\u001b[1;32m     55\u001b[0m     \u001b[38;5;124m\"\u001b[39m\u001b[38;5;124mkhaki\u001b[39m\u001b[38;5;124m\"\u001b[39m: np\u001b[38;5;241m.\u001b[39marray([\u001b[38;5;241m240\u001b[39m, \u001b[38;5;241m230\u001b[39m, \u001b[38;5;241m140\u001b[39m]),\n\u001b[1;32m     56\u001b[0m     \u001b[38;5;124m\"\u001b[39m\u001b[38;5;124mmint\u001b[39m\u001b[38;5;124m\"\u001b[39m: np\u001b[38;5;241m.\u001b[39marray([\u001b[38;5;241m189\u001b[39m, \u001b[38;5;241m252\u001b[39m, \u001b[38;5;241m201\u001b[39m]),\n\u001b[1;32m     57\u001b[0m     \u001b[38;5;124m\"\u001b[39m\u001b[38;5;124mamber\u001b[39m\u001b[38;5;124m\"\u001b[39m: np\u001b[38;5;241m.\u001b[39marray([\u001b[38;5;241m255\u001b[39m, \u001b[38;5;241m191\u001b[39m, \u001b[38;5;241m0\u001b[39m]),\n\u001b[1;32m     58\u001b[0m     \u001b[38;5;124m\"\u001b[39m\u001b[38;5;124mruby\u001b[39m\u001b[38;5;124m\"\u001b[39m: np\u001b[38;5;241m.\u001b[39marray([\u001b[38;5;241m224\u001b[39m, \u001b[38;5;241m17\u001b[39m, \u001b[38;5;241m95\u001b[39m]),\n\u001b[1;32m     59\u001b[0m     \u001b[38;5;124m\"\u001b[39m\u001b[38;5;124memerald\u001b[39m\u001b[38;5;124m\"\u001b[39m: np\u001b[38;5;241m.\u001b[39marray([\u001b[38;5;241m80\u001b[39m, \u001b[38;5;241m200\u001b[39m, \u001b[38;5;241m120\u001b[39m]),\n\u001b[1;32m     60\u001b[0m     \u001b[38;5;124m\"\u001b[39m\u001b[38;5;124mjade\u001b[39m\u001b[38;5;124m\"\u001b[39m: np\u001b[38;5;241m.\u001b[39marray([\u001b[38;5;241m0\u001b[39m, \u001b[38;5;241m168\u001b[39m, \u001b[38;5;241m107\u001b[39m]),\n\u001b[1;32m     61\u001b[0m     \u001b[38;5;124m\"\u001b[39m\u001b[38;5;124mbronze\u001b[39m\u001b[38;5;124m\"\u001b[39m: np\u001b[38;5;241m.\u001b[39marray([\u001b[38;5;241m205\u001b[39m, \u001b[38;5;241m127\u001b[39m, \u001b[38;5;241m50\u001b[39m]),\n\u001b[1;32m     62\u001b[0m     \u001b[38;5;124m\"\u001b[39m\u001b[38;5;124msapphire\u001b[39m\u001b[38;5;124m\"\u001b[39m: np\u001b[38;5;241m.\u001b[39marray([\u001b[38;5;241m15\u001b[39m, \u001b[38;5;241m82\u001b[39m, \u001b[38;5;241m186\u001b[39m]),\n\u001b[1;32m     63\u001b[0m     \u001b[38;5;124m\"\u001b[39m\u001b[38;5;124mperiwinkle\u001b[39m\u001b[38;5;124m\"\u001b[39m: np\u001b[38;5;241m.\u001b[39marray([\u001b[38;5;241m204\u001b[39m, \u001b[38;5;241m204\u001b[39m, \u001b[38;5;241m255\u001b[39m]),\n\u001b[1;32m     64\u001b[0m     \u001b[38;5;124m\"\u001b[39m\u001b[38;5;124mslate\u001b[39m\u001b[38;5;124m\"\u001b[39m: np\u001b[38;5;241m.\u001b[39marray([\u001b[38;5;241m112\u001b[39m, \u001b[38;5;241m128\u001b[39m, \u001b[38;5;241m144\u001b[39m]),\n\u001b[1;32m     65\u001b[0m     \u001b[38;5;124m\"\u001b[39m\u001b[38;5;124mamethyst\u001b[39m\u001b[38;5;124m\"\u001b[39m: np\u001b[38;5;241m.\u001b[39marray([\u001b[38;5;241m153\u001b[39m, \u001b[38;5;241m102\u001b[39m, \u001b[38;5;241m204\u001b[39m]),\n\u001b[1;32m     66\u001b[0m     \u001b[38;5;124m\"\u001b[39m\u001b[38;5;124mfuchsia\u001b[39m\u001b[38;5;124m\"\u001b[39m: np\u001b[38;5;241m.\u001b[39marray([\u001b[38;5;241m255\u001b[39m, \u001b[38;5;241m0\u001b[39m, \u001b[38;5;241m255\u001b[39m]),\n\u001b[1;32m     67\u001b[0m     \u001b[38;5;124m\"\u001b[39m\u001b[38;5;124mazure\u001b[39m\u001b[38;5;124m\"\u001b[39m: np\u001b[38;5;241m.\u001b[39marray([\u001b[38;5;241m240\u001b[39m, \u001b[38;5;241m255\u001b[39m, \u001b[38;5;241m255\u001b[39m]),\n\u001b[1;32m     68\u001b[0m     \u001b[38;5;124m\"\u001b[39m\u001b[38;5;124mcharcoal\u001b[39m\u001b[38;5;124m\"\u001b[39m: np\u001b[38;5;241m.\u001b[39marray([\u001b[38;5;241m54\u001b[39m, \u001b[38;5;241m69\u001b[39m, \u001b[38;5;241m79\u001b[39m]),\n\u001b[1;32m     69\u001b[0m     \u001b[38;5;124m\"\u001b[39m\u001b[38;5;124mrose\u001b[39m\u001b[38;5;124m\"\u001b[39m: np\u001b[38;5;241m.\u001b[39marray([\u001b[38;5;241m255\u001b[39m, \u001b[38;5;241m0\u001b[39m, \u001b[38;5;241m127\u001b[39m])\n\u001b[1;32m     70\u001b[0m }\n",
      "\u001b[0;31mKeyboardInterrupt\u001b[0m: "
     ]
    }
   ],
   "source": [
    "from tqdm import tqdm\n",
    "for i in tqdm(range(100000)):\n",
    "    env.reset(np.random.choice(env.test_descriptions))"
   ]
  },
  {
   "cell_type": "code",
   "execution_count": 19,
   "metadata": {},
   "outputs": [
    {
     "data": {
      "text/plain": [
       "13"
      ]
     },
     "execution_count": 19,
     "metadata": {},
     "output_type": "execute_result"
    }
   ],
   "source": [
    "len(objects)"
   ]
  },
  {
   "cell_type": "code",
   "execution_count": 7,
   "metadata": {},
   "outputs": [
    {
     "data": {
      "text/plain": [
       "18590"
      ]
     },
     "execution_count": 7,
     "metadata": {},
     "output_type": "execute_result"
    }
   ],
   "source": [
    "2 * 13 * 715"
   ]
  },
  {
   "cell_type": "code",
   "execution_count": 28,
   "metadata": {},
   "outputs": [
    {
     "data": {
      "text/plain": [
       "18590"
      ]
     },
     "execution_count": 28,
     "metadata": {},
     "output_type": "execute_result"
    }
   ],
   "source": [
    "furnitures = ('door', 'chair', 'table')\n",
    "plants = ('potato', 'carrot', 'tomato')\n",
    "herbivores = ('rabbit', 'pig', 'sheep')\n",
    "carnivores = ('lion', 'tiger', 'wolf')\n",
    "supplies = ('water',)\n",
    "\n",
    "objects = furnitures + plants + herbivores + carnivores + supplies\n",
    "\n",
    "impossibles = []\n",
    "grasp = []\n",
    "grow_plants = []\n",
    "grow_herbivores = []\n",
    "grow_carnivores = []\n",
    "for i, e1 in enumerate(objects):\n",
    "    for j, e2 in enumerate(objects[i+1:]):\n",
    "        for k, e3 in enumerate(objects[i+j+2:]):\n",
    "            for e4 in objects[i+j+k+3:]:\n",
    "                for o in objects:\n",
    "                    g = ''\n",
    "                    for t in ('Grasp', 'Grow'):\n",
    "                        g += f'Goal: {t} {o}\\n'\n",
    "                        g += f'You see: {e1}, {e2}, {e3}, {e4}\\n'\n",
    "                        g += 'You are standing on: nothing\\n'\n",
    "                        g += 'Inventory (0/2): empty\\n'\n",
    "                        g += 'Action: '\n",
    "                        \n",
    "                        # Impossible goals\n",
    "                        if o not in (e1, e2, e3, e4) or t == 'Grow' and (o in furnitures + supplies or 'water' not in (e1, e2, e3, e4) or o in herbivores + carnivores and e1 not in plants and e2 not in plants and e3 not in plants and e4 not in plants or o in carnivores and e1 not in herbivores and e2 not in herbivores and e3 not in herbivores and e4 not in herbivores):\n",
    "                            impossibles.append(g)\n",
    "                        elif t == 'Grasp':\n",
    "                            grasp.append(g)\n",
    "                        elif o in plants:\n",
    "                            grow_plants.append(g)\n",
    "                        elif o in herbivores:\n",
    "                            grow_herbivores.append(g)\n",
    "                        elif o in carnivores:\n",
    "                            grow_carnivores.append(g)\n",
    "                        else:\n",
    "                            print(g)\n",
    "                                \n",
    "all_goals = impossibles + grasp + grow_plants + grow_herbivores + grow_carnivores\n",
    "len(all_goals)"
   ]
  },
  {
   "cell_type": "code",
   "execution_count": 29,
   "metadata": {},
   "outputs": [
    {
     "name": "stdout",
     "output_type": "stream",
     "text": [
      "15457 2860 165 81 27\n"
     ]
    }
   ],
   "source": [
    "print(len(impossibles), len(grasp), len(grow_plants), len(grow_herbivores), len(grow_carnivores))"
   ]
  },
  {
   "cell_type": "code",
   "execution_count": 30,
   "metadata": {},
   "outputs": [
    {
     "data": {
      "image/png": "[encoded data removed]",
      "text/plain": [
       "<Figure size 1000x600 with 1 Axes>"
      ]
     },
     "metadata": {},
     "output_type": "display_data"
    }
   ],
   "source": [
    "from matplotlib import pyplot as plt\n",
    "categories = ['Impossibles', 'Grasp', 'Grow Plants', 'Grow Herbivores', 'Grow Carnivores']\n",
    "values = [len(impossibles), len(grasp), len(grow_plants), len(grow_herbivores), len(grow_carnivores)]\n",
    "\n",
    "# Plotting the histogram\n",
    "plt.figure(figsize=(10, 6))\n",
    "plt.bar(categories, values)\n",
    "plt.title('Distribution of Category')\n",
    "plt.xlabel('Categories')\n",
    "plt.ylabel('Count')\n",
    "plt.tight_layout()\n",
    "plt.show()"
   ]
  }
 ],
 "metadata": {
  "kernelspec": {
   "display_name": "playground-text",
   "language": "python",
   "name": "python3"
  },
  "language_info": {
   "codemirror_mode": {
    "name": "ipython",
    "version": 3
   },
   "file_extension": ".py",
   "mimetype": "text/x-python",
   "name": "python",
   "nbconvert_exporter": "python",
   "pygments_lexer": "ipython3",
   "version": "3.10.14"
  }
 },
 "nbformat": 4,
 "nbformat_minor": 2
}
