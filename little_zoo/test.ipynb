{
 "cells": [
  {
   "cell_type": "code",
   "execution_count": 22,
   "metadata": {},
   "outputs": [],
   "source": [
    "import numpy as np\n",
    "from littlezoo import LittleZoo"
   ]
  },
  {
   "cell_type": "code",
   "execution_count": 23,
   "metadata": {},
   "outputs": [],
   "source": [
    "env = LittleZoo()"
   ]
  },
  {
   "cell_type": "code",
   "execution_count": 24,
   "metadata": {},
   "outputs": [
    {
     "data": {
      "text/plain": [
       "('lion', 'tiger', 'bobcat', 'panthera', 'coyote', 'wolf')"
      ]
     },
     "execution_count": 24,
     "metadata": {},
     "output_type": "execute_result"
    }
   ],
   "source": [
    "env.env_params['categories']['carnivore']"
   ]
  },
  {
   "cell_type": "code",
   "execution_count": 25,
   "metadata": {},
   "outputs": [],
   "source": [
    "goal = ['Grow lion', 'tomato', 'water', 'rabbit', 'lion']"
   ]
  },
  {
   "cell_type": "code",
   "execution_count": 26,
   "metadata": {},
   "outputs": [
    {
     "name": "stderr",
     "output_type": "stream",
     "text": [
      "/home/loris/anaconda3/envs/playground-text/lib/python3.10/site-packages/gymnasium/utils/passive_env_checker.py:168: DeprecationWarning: \u001b[33mWARN: Current gymnasium version requires that `Env.reset` can be passed a `seed` instead of using `Env.seed` for resetting the environment random number generator.\u001b[0m\n",
      "  logger.deprecation(\n",
      "/home/loris/anaconda3/envs/playground-text/lib/python3.10/site-packages/gymnasium/utils/passive_env_checker.py:181: DeprecationWarning: \u001b[33mWARN: Current gymnasium version requires that `Env.reset` can be passed `options` to allow the environment initialisation to be passed additional information.\u001b[0m\n",
      "  logger.deprecation(\n",
      "/home/loris/anaconda3/envs/playground-text/lib/python3.10/site-packages/gymnasium/utils/passive_env_checker.py:135: UserWarning: \u001b[33mWARN: The obs returned by the `reset()` method was expecting numpy array dtype to be float32, actual type: float64\u001b[0m\n",
      "  logger.warn(\n",
      "/home/loris/anaconda3/envs/playground-text/lib/python3.10/site-packages/gymnasium/utils/passive_env_checker.py:159: UserWarning: \u001b[33mWARN: The obs returned by the `reset()` method is not within the observation space.\u001b[0m\n",
      "  logger.warn(f\"{pre} is not within the observation space.\")\n",
      "/home/loris/anaconda3/envs/playground-text/lib/python3.10/site-packages/gymnasium/utils/passive_env_checker.py:135: UserWarning: \u001b[33mWARN: The obs returned by the `step()` method was expecting numpy array dtype to be float32, actual type: float64\u001b[0m\n",
      "  logger.warn(\n",
      "/home/loris/anaconda3/envs/playground-text/lib/python3.10/site-packages/gymnasium/utils/passive_env_checker.py:159: UserWarning: \u001b[33mWARN: The obs returned by the `step()` method is not within the observation space.\u001b[0m\n",
      "  logger.warn(f\"{pre} is not within the observation space.\")\n"
     ]
    },
    {
     "data": {
      "text/plain": [
       "('You see: tomato seed, water, baby rabbit, baby lion\\nYou are standing on: nothing\\nInventory (0/2): empty',\n",
       " {'goal': 'Grow lion',\n",
       "  'possible_actions': ['Grasp',\n",
       "   'Go to tomato seed',\n",
       "   'Go to water',\n",
       "   'Go to baby rabbit',\n",
       "   'Go to baby lion'],\n",
       "  'inventory': []})"
      ]
     },
     "execution_count": 26,
     "metadata": {},
     "output_type": "execute_result"
    }
   ],
   "source": [
    "env.reset(goal)"
   ]
  },
  {
   "cell_type": "code",
   "execution_count": 27,
   "metadata": {},
   "outputs": [
    {
     "data": {
      "text/plain": [
       "('You see: tomato seed, water, baby rabbit, baby lion\\nYou are standing on: nothing\\nInventory (0/2): empty',\n",
       " 0.0,\n",
       " False,\n",
       " False,\n",
       " {'goal': 'Grow lion',\n",
       "  'possible_actions': ['Grasp',\n",
       "   'Go to tomato seed',\n",
       "   'Go to water',\n",
       "   'Go to baby rabbit',\n",
       "   'Go to baby lion'],\n",
       "  'inventory': []})"
      ]
     },
     "execution_count": 27,
     "metadata": {},
     "output_type": "execute_result"
    }
   ],
   "source": [
    "env.step(\"Grasp\")"
   ]
  },
  {
   "cell_type": "code",
   "execution_count": 56,
   "metadata": {},
   "outputs": [
    {
     "data": {
      "text/plain": [
       "12872686"
      ]
     },
     "execution_count": 56,
     "metadata": {},
     "output_type": "execute_result"
    }
   ],
   "source": [
    "furnitures = ('door', 'chair', 'table', 'bed', 'wardrobe')\n",
    "plants = ('potato', 'carrot', 'tomato', 'cucumber', 'lettuce')\n",
    "herbivores = ('rabbit', 'pig', 'sheep', 'cow', 'horse', 'goat')\n",
    "carnivores = ('lion', 'tiger', 'wolf', 'bear', 'fox', 'eagle')\n",
    "supplies = ('water',)\n",
    "\n",
    "objects = furnitures + plants + herbivores + carnivores + supplies\n",
    "# Shuffle\n",
    "\n",
    "impossibles = []\n",
    "grasp = []\n",
    "grow_plants = []\n",
    "grow_herbivores = []\n",
    "grow_carnivores = []\n",
    "goals = {}\n",
    "\n",
    "def get_name(obj):\n",
    "    if obj in plants:\n",
    "        return obj + ' seed'\n",
    "    elif obj in herbivores + carnivores:\n",
    "        return 'baby ' + obj\n",
    "    else:\n",
    "        return obj\n",
    "\n",
    "for i, e1 in enumerate(objects):\n",
    "            e1_name = get_name(e1)\n",
    "            for j, e2 in enumerate(objects):\n",
    "                e2_name = get_name(e2)\n",
    "                for k, e3 in enumerate(objects):\n",
    "                    e3_name = get_name(e3)\n",
    "                    for e4 in objects:\n",
    "                        e4_name = get_name(e4)\n",
    "                        for o in objects:\n",
    "                            for t in ('Grasp', 'Grow'):\n",
    "                                g = f'Goal: {t} {o}\\n'\n",
    "                                g += f'You see: {e1_name}, {e2_name}, {e3_name}, {e4_name}\\n'\n",
    "                                g += 'You are standing on: nothing\\n'\n",
    "                                g += 'Inventory (0/2): empty\\n'\n",
    "                                g += 'Action: '\n",
    "                                \n",
    "                                # Impossible goals\n",
    "                                if o not in (e1, e2, e3, e4) or t == 'Grow' and (o in furnitures + supplies or 'water' not in (e1, e2, e3, e4) or o in herbivores + carnivores and e1 not in plants and e2 not in plants and e3 not in plants and e4 not in plants or o in carnivores and e1 not in herbivores and e2 not in herbivores and e3 not in herbivores and e4 not in herbivores):\n",
    "                                    impossibles.append(g)\n",
    "                                elif t == 'Grasp':\n",
    "                                    grasp.append(g)\n",
    "                                elif o in plants:\n",
    "                                    grow_plants.append(g)\n",
    "                                elif o in herbivores:\n",
    "                                    grow_herbivores.append(g)\n",
    "                                elif o in carnivores:\n",
    "                                    grow_carnivores.append(g)\n",
    "                                else:\n",
    "                                    print(g)\n",
    "                                \n",
    "                                goals[g] = (t + ' ' + o, e1, e2, e3, e4)\n",
    "                                \n",
    "all_goals = impossibles + grasp + grow_plants + grow_herbivores + grow_carnivores\n",
    "len(all_goals)"
   ]
  },
  {
   "cell_type": "code",
   "execution_count": 57,
   "metadata": {},
   "outputs": [
    {
     "name": "stdout",
     "output_type": "stream",
     "text": [
      "11776821 1048455 29050 14040 4320\n"
     ]
    }
   ],
   "source": [
    "print(len(impossibles), len(grasp), len(grow_plants), len(grow_herbivores), len(grow_carnivores))"
   ]
  },
  {
   "cell_type": "code",
   "execution_count": 54,
   "metadata": {},
   "outputs": [
    {
     "data": {
      "text/plain": [
       "0.0315252799657568"
      ]
     },
     "execution_count": 54,
     "metadata": {},
     "output_type": "execute_result"
    }
   ],
   "source": [
    "len(grow_plants) / (len(grasp) + len(grow_plants) + len(grow_herbivores) + len(grow_carnivores))"
   ]
  },
  {
   "cell_type": "code",
   "execution_count": 62,
   "metadata": {},
   "outputs": [
    {
     "data": {
      "image/png": "[encoded data removed]",
      "text/plain": [
       "<Figure size 1000x600 with 1 Axes>"
      ]
     },
     "metadata": {},
     "output_type": "display_data"
    }
   ],
   "source": [
    "from matplotlib import pyplot as plt\n",
    "categories = ['Impossibles', 'Grasp', 'Grow Plants', 'Grow Herbivores', 'Grow Carnivores']\n",
    "values = [20000, 40, 200, 1000, 4000]\n",
    "\n",
    "# Plotting the histogram\n",
    "plt.figure(figsize=(10, 6))\n",
    "plt.bar(categories, values)\n",
    "plt.title('Distribution 3')\n",
    "plt.xlabel('Categories')\n",
    "plt.ylabel('Count')\n",
    "plt.tight_layout()\n",
    "plt.show()"
   ]
  }
 ],
 "metadata": {
  "kernelspec": {
   "display_name": "playground-text",
   "language": "python",
   "name": "python3"
  },
  "language_info": {
   "codemirror_mode": {
    "name": "ipython",
    "version": 3
   },
   "file_extension": ".py",
   "mimetype": "text/x-python",
   "name": "python",
   "nbconvert_exporter": "python",
   "pygments_lexer": "ipython3",
   "version": "3.10.14"
  }
 },
 "nbformat": 4,
 "nbformat_minor": 2
}
